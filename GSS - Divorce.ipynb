{
 "cells": [
  {
   "cell_type": "markdown",
   "id": "695f3207",
   "metadata": {},
   "source": [
    "# General Social Survey\n",
    "### Divorce-related variable exploration\n",
    "\n",
    "This notebook look at the [General Social Survey](https://gss.norc.org/) (GSS), exploring divorce-related variables over the 50+ years of survey data. The primary data file for this exploration (gss7221_r2.dta) can be found in the [GSS Strata archive](https://gss.norc.org/documents/stata/GSS_stata.zip). If you want to work with this data for your own analysis, it is also essential to review the survey [codebooks](https://gss.norc.org/Get-Documentation).\n",
    "\n",
    "Special thanks to [Allen Downey](https://github.com/AllenDowney) for all the work they have published on crafting jupyter notebooks with GSS data.\n",
    "\n",
    "This notebook is part of the [GeneralSocialSurvey](https://github.com/CulleyHarrelson/GeneralSocialSurvey) github repository."
   ]
  },
  {
   "cell_type": "code",
   "execution_count": 1,
   "id": "40d03954",
   "metadata": {
    "slideshow": {
     "slide_type": "skip"
    }
   },
   "outputs": [],
   "source": [
    "import pandas as pd\n",
    "import numpy as np\n",
    "import matplotlib.pyplot as plt\n",
    "import seaborn as sns\n",
    "import warnings\n",
    "#import convenience function, column selection and data clensing functions\n",
    "import gss_functions\n"
   ]
  },
  {
   "cell_type": "code",
   "execution_count": 2,
   "id": "a0f68c7c",
   "metadata": {
    "scrolled": true,
    "slideshow": {
     "slide_type": "slide"
    }
   },
   "outputs": [
    {
     "ename": "NameError",
     "evalue": "name 'gss' is not defined",
     "output_type": "error",
     "traceback": [
      "\u001b[0;31m---------------------------------------------------------------------------\u001b[0m",
      "\u001b[0;31mNameError\u001b[0m                                 Traceback (most recent call last)",
      "\u001b[0;32m/var/folders/dv/ts7drh5n0hb48yx2_5vpm3kw0000gq/T/ipykernel_5208/4096092116.py\u001b[0m in \u001b[0;36m<module>\u001b[0;34m\u001b[0m\n\u001b[1;32m      1\u001b[0m \u001b[0;31m# load the data\u001b[0m\u001b[0;34m\u001b[0m\u001b[0;34m\u001b[0m\u001b[0;34m\u001b[0m\u001b[0m\n\u001b[1;32m      2\u001b[0m \u001b[0mgss\u001b[0m \u001b[0;34m=\u001b[0m \u001b[0mpd\u001b[0m\u001b[0;34m.\u001b[0m\u001b[0mread_stata\u001b[0m\u001b[0;34m(\u001b[0m\u001b[0;34m'gss7221_r2.dta'\u001b[0m\u001b[0;34m,\u001b[0m \u001b[0mcolumns\u001b[0m\u001b[0;34m=\u001b[0m\u001b[0mgss_functions\u001b[0m\u001b[0;34m.\u001b[0m\u001b[0mcolumns\u001b[0m\u001b[0;34m(\u001b[0m\u001b[0;34m)\u001b[0m\u001b[0;34m,\u001b[0m \u001b[0mconvert_categoricals\u001b[0m\u001b[0;34m=\u001b[0m\u001b[0;32mFalse\u001b[0m\u001b[0;34m)\u001b[0m\u001b[0;34m\u001b[0m\u001b[0;34m\u001b[0m\u001b[0m\n\u001b[0;32m----> 3\u001b[0;31m \u001b[0mgss_functions\u001b[0m\u001b[0;34m.\u001b[0m\u001b[0mgss_replace_invalid\u001b[0m\u001b[0;34m(\u001b[0m\u001b[0mgss\u001b[0m\u001b[0;34m)\u001b[0m\u001b[0;34m\u001b[0m\u001b[0;34m\u001b[0m\u001b[0m\n\u001b[0m",
      "\u001b[0;32m~/Documents/clones/GeneralSocialSurvey/gss_functions.py\u001b[0m in \u001b[0;36mgss_replace_invalid\u001b[0;34m(df)\u001b[0m\n\u001b[1;32m    519\u001b[0m     \u001b[0mclean_columns\u001b[0m \u001b[0;34m=\u001b[0m \u001b[0;34m[\u001b[0m\u001b[0;34m\"id\"\u001b[0m\u001b[0;34m,\u001b[0m \u001b[0;34m\"year\"\u001b[0m\u001b[0;34m,\u001b[0m \u001b[0;34m\"ballot\"\u001b[0m\u001b[0;34m,\u001b[0m \u001b[0;34m\"sex\"\u001b[0m\u001b[0;34m,\u001b[0m \u001b[0;34m\"race\"\u001b[0m\u001b[0;34m,\u001b[0m \u001b[0;34m\"reg16\"\u001b[0m\u001b[0;34m,\u001b[0m \u001b[0;34m\"region\"\u001b[0m\u001b[0;34m,\u001b[0m \u001b[0;34m\"srcbelt\"\u001b[0m\u001b[0;34m]\u001b[0m\u001b[0;34m\u001b[0m\u001b[0;34m\u001b[0m\u001b[0m\n\u001b[1;32m    520\u001b[0m \u001b[0;34m\u001b[0m\u001b[0m\n\u001b[0;32m--> 521\u001b[0;31m     \u001b[0;32mfor\u001b[0m \u001b[0mcolumn\u001b[0m \u001b[0;32min\u001b[0m \u001b[0mgss\u001b[0m\u001b[0;34m.\u001b[0m\u001b[0mcolumns\u001b[0m\u001b[0;34m:\u001b[0m\u001b[0;34m\u001b[0m\u001b[0;34m\u001b[0m\u001b[0m\n\u001b[0m\u001b[1;32m    522\u001b[0m         \u001b[0;32mif\u001b[0m \u001b[0mgss\u001b[0m\u001b[0;34m[\u001b[0m\u001b[0mcolumn\u001b[0m\u001b[0;34m]\u001b[0m\u001b[0;34m.\u001b[0m\u001b[0mdtype\u001b[0m \u001b[0;34m==\u001b[0m \u001b[0mint\u001b[0m \u001b[0;32mand\u001b[0m \u001b[0mcolumn\u001b[0m \u001b[0;32mnot\u001b[0m \u001b[0;32min\u001b[0m \u001b[0mclean_columns\u001b[0m\u001b[0;34m:\u001b[0m\u001b[0;34m\u001b[0m\u001b[0;34m\u001b[0m\u001b[0m\n\u001b[1;32m    523\u001b[0m             \u001b[0mprint\u001b[0m\u001b[0;34m(\u001b[0m\u001b[0;34mf\"'{column}', \"\u001b[0m\u001b[0;34m,\u001b[0m \u001b[0mend\u001b[0m\u001b[0;34m=\u001b[0m\u001b[0;34m\"\"\u001b[0m\u001b[0;34m)\u001b[0m\u001b[0;34m\u001b[0m\u001b[0;34m\u001b[0m\u001b[0m\n",
      "\u001b[0;31mNameError\u001b[0m: name 'gss' is not defined"
     ]
    }
   ],
   "source": [
    "# load the data\n",
    "gss = pd.read_stata('gss7221_r2.dta', columns=gss_functions.columns(), convert_categoricals=False)\n",
    "gss_functions.gss_replace_invalid(gss)\n"
   ]
  },
  {
   "cell_type": "markdown",
   "id": "3f654305",
   "metadata": {},
   "source": [
    "# Variable: marital\n",
    "\n",
    "These two plots both look at the GSS <em>marital</em> variable. The first plot is a [count plot](https://seaborn.pydata.org/generated/seaborn.countplot.html#seaborn.countplot) and the second is a [histogram](https://seaborn.pydata.org/generated/seaborn.histplot.html#seaborn.histplot)."
   ]
  },
  {
   "cell_type": "code",
   "execution_count": null,
   "id": "2ee36317",
   "metadata": {},
   "outputs": [],
   "source": [
    "\n",
    "t = \"Are you currently married, widowed, divorced, separated, or have you never been married?\"\n",
    "\n",
    "\n",
    "labels2 = ['', \n",
    "          'married',\n",
    "          'widowed',\n",
    "          'divorced',\n",
    "          'separated',\n",
    "          'never married', \n",
    "          '']\n",
    "\n",
    "p = sns.displot(\n",
    "    data=gss, \n",
    "    kind=\"hist\",\n",
    "    x=\"marital\",\n",
    "    hue=\"sex\", \n",
    "    multiple=\"stack\", \n",
    "    discrete=True, \n",
    "    height=4,\n",
    "    aspect=2, \n",
    "    legend=False,\n",
    "    shrink=.95\n",
    ")\n",
    "p.set_xticklabels(labels2)\n",
    "p.set_xlabels(t)\n",
    "\n",
    "plt.legend(labels=['female', 'male'], loc = 2, bbox_to_anchor = (1,1))\n",
    "plt.draw()\n"
   ]
  },
  {
   "cell_type": "markdown",
   "id": "b668171f",
   "metadata": {},
   "source": [
    "# Variable: famdif16\n",
    "\n",
    "This plot is a category horizontal bar, broken down by \"sex\"\n"
   ]
  },
  {
   "cell_type": "code",
   "execution_count": null,
   "id": "a990a2f9",
   "metadata": {},
   "outputs": [],
   "source": [
    "# Variable: famdif16\n",
    "# Category horizontal bar plot, broken down by \"sex\"\n",
    "\n",
    "famdif16 = sns.catplot(\n",
    "    data=gss, \n",
    "    y=\"famdif16\", \n",
    "    kind=\"count\", \n",
    "    palette=\"ch:.25\",\n",
    "    hue=\"sex\",\n",
    "    height=4,\n",
    "    aspect=1, \n",
    "    legend=False,\n",
    "    orient='h',\n",
    ")\n",
    "\n",
    "labels = ['one or both parents died',\n",
    "          'parents divorced or separated',\n",
    "          'fater absent in armed forces',\n",
    "          'one or both parents in institution',\n",
    "          'other']\n",
    "\n",
    "t = \"count of GSS variable: famdif16\\n\\n\" + \\\n",
    "    \"if not living with both mother and father at age 16: What happened?\"\n",
    "\n",
    "famdif16.set_yticklabels(labels)\n",
    "famdif16.set_xlabels(t)\n",
    "famdif16.set_ylabels('response')\n",
    "plt.legend(labels=['male', 'female'], loc = 2, bbox_to_anchor = (1,1))\n",
    "# this removes output from plt.legend\n",
    "warnings.filterwarnings(\"ignore\")\n",
    "\n"
   ]
  },
  {
   "cell_type": "markdown",
   "id": "021082a8",
   "metadata": {},
   "source": [
    "# Variable: divorce\n",
    "\n",
    "This is a simple yes or no question: have you been divorced?\n"
   ]
  },
  {
   "cell_type": "code",
   "execution_count": null,
   "id": "6def0dbe",
   "metadata": {},
   "outputs": [],
   "source": [
    "# Variable: divorce\n",
    "# Category bar plot, broken down by \"sex\"\n",
    "\n",
    "p = sns.catplot(\n",
    "    data=gss, \n",
    "    x=\"divorce\", \n",
    "    kind=\"count\", \n",
    "    palette=\"ch:.25\",\n",
    "    height=4,\n",
    "    aspect=2, \n",
    "    legend=False\n",
    ")\n",
    "labels = ['yes',\n",
    "          'no']\n",
    "\n",
    "t = \"If currently married or widowed: Have you ever been divorced or legally separated?\"\n",
    "\n",
    "p.set_xticklabels(labels)\n",
    "p.set_xlabels(t)\n",
    "p.set_ylabels('count of GSS Variable: divorce')\n",
    "\n",
    "\n",
    "warnings.filterwarnings(\"ignore\")\n",
    "plt.draw()\n",
    "\n",
    "h = sns.catplot(\n",
    "    data=gss, \n",
    "    x=\"divorce\", \n",
    "    y=\"age\", \n",
    "    kind=\"box\",\n",
    "    height=4,\n",
    "    aspect=1, \n",
    ")\n",
    "\n",
    "h.set_xticklabels(labels)\n",
    "h.set_xlabels(t)\n",
    "h.set_ylabels('participant age')\n",
    "plt.draw()\n"
   ]
  },
  {
   "cell_type": "markdown",
   "id": "11bad82b",
   "metadata": {},
   "source": [
    "# divlaw\n",
    "\n",
    "this question looks at opinions toward divorce\n"
   ]
  },
  {
   "cell_type": "code",
   "execution_count": null,
   "id": "7923b17e",
   "metadata": {},
   "outputs": [],
   "source": [
    "# martype, divlaw, divlawnv,\n",
    "\n",
    "sns.set_theme()\n",
    "sns.set_style(\"ticks\")\n",
    "\n",
    "\n",
    "labels = ['easier',\n",
    "          'more difficult',\n",
    "          'stay as is']\n",
    "\n",
    "t = \"Should divorce in this country be easier or more obtain than it is now?\"\n",
    "\n",
    "warnings.filterwarnings(\"ignore\")\n",
    "\n",
    "\n",
    "labels2 = ['', '', 'easier', '',\n",
    "          'more difficult', '',\n",
    "          'stay as is', '','']\n",
    "\n",
    "h = sns.displot(\n",
    "    data=gss, \n",
    "    kind=\"hist\",\n",
    "    x=\"divlaw\",\n",
    "    hue=\"sex\", \n",
    "    multiple=\"stack\", \n",
    "    discrete=True,  \n",
    "    height=4,\n",
    "    aspect=2, \n",
    "    legend=False,\n",
    "    shrink=.8,\n",
    ")\n",
    "\n",
    "# need to change the x ticks\n",
    "\n",
    "h.set_xticklabels(labels2)\n",
    "h.set_xlabels(t)\n",
    "\n",
    "plt.legend(labels=['female', 'male'], loc = 2, bbox_to_anchor = (1,1))\n",
    "plt.draw()\n",
    "\n",
    "h = sns.catplot(\n",
    "    data=gss, \n",
    "    x=\"divlaw\", \n",
    "    y=\"age\", \n",
    "    kind=\"box\",\n",
    "    height=4,\n",
    "    aspect=1, \n",
    ")\n",
    "\n",
    "h.set_xticklabels(labels)\n",
    "h.set_xlabels(t)\n",
    "h.set_ylabels('participant age')\n",
    "plt.draw()\n",
    "\n",
    "#gss_functions.values(gss['divlaw'])\n"
   ]
  },
  {
   "cell_type": "code",
   "execution_count": null,
   "id": "701a94af",
   "metadata": {},
   "outputs": [],
   "source": []
  }
 ],
 "metadata": {
  "celltoolbar": "Slideshow",
  "kernelspec": {
   "display_name": "Python 3 (ipykernel)",
   "language": "python",
   "name": "python3"
  },
  "language_info": {
   "codemirror_mode": {
    "name": "ipython",
    "version": 3
   },
   "file_extension": ".py",
   "mimetype": "text/x-python",
   "name": "python",
   "nbconvert_exporter": "python",
   "pygments_lexer": "ipython3",
   "version": "3.8.8"
  }
 },
 "nbformat": 4,
 "nbformat_minor": 5
}
